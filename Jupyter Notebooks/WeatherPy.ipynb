{
 "cells": [
  {
   "cell_type": "markdown",
   "metadata": {},
   "source": [
    "# WeatherPy\n",
    "----\n"
   ]
  },
  {
   "cell_type": "code",
   "execution_count": 1,
   "metadata": {
    "scrolled": true
   },
   "outputs": [],
   "source": [
    "# Dependencies and Setup\n",
    "import matplotlib.pyplot as plt\n",
    "import pandas as pd\n",
    "import numpy as np\n",
    "import requests\n",
    "import time\n",
    "from datetime import datetime\n",
    "from scipy.stats import linregress\n",
    "\n",
    "# Import API key\n",
    "from api_keys import weather_api_key\n",
    "\n",
    "# Incorporated citipy to determine city based on latitude and longitude\n",
    "from citipy import citipy\n",
    "\n",
    "# Output File (CSV)\n",
    "output_data_file = \"../output_data/cities.csv\"\n",
    "\n",
    "# Range of latitudes and longitudes\n",
    "lat_range = (-90, 90)\n",
    "lng_range = (-180, 180)"
   ]
  },
  {
   "cell_type": "markdown",
   "metadata": {},
   "source": [
    "## Generate Cities List"
   ]
  },
  {
   "cell_type": "code",
   "execution_count": 2,
   "metadata": {},
   "outputs": [
    {
     "data": {
      "text/plain": [
       "607"
      ]
     },
     "execution_count": 2,
     "metadata": {},
     "output_type": "execute_result"
    }
   ],
   "source": [
    "# List for holding lat_lngs and cities\n",
    "lat_lngs = []\n",
    "cities = []\n",
    "\n",
    "# Create a set of random lat and lng combinations\n",
    "lats = np.random.uniform(lat_range[0], lat_range[1], size=1500)\n",
    "lngs = np.random.uniform(lng_range[0], lng_range[1], size=1500)\n",
    "lat_lngs = zip(lats, lngs)\n",
    "\n",
    "# Identify nearest city for each lat, lng combination\n",
    "for lat_lng in lat_lngs:\n",
    "    city = citipy.nearest_city(lat_lng[0], lat_lng[1]).city_name\n",
    "    \n",
    "    # If the city is unique, then add it to a our cities list\n",
    "    if city not in cities:\n",
    "        cities.append(city)\n",
    "\n",
    "# Print the city count to confirm sufficient count\n",
    "len(cities)"
   ]
  },
  {
   "cell_type": "markdown",
   "metadata": {},
   "source": [
    "### Perform API Calls\n",
    "* Perform a weather check on each city using a series of successive API calls.\n",
    "* Include a print log of each city as it'sbeing processed (with the city number and city name).\n"
   ]
  },
  {
   "cell_type": "code",
   "execution_count": null,
   "metadata": {},
   "outputs": [
    {
     "name": "stdout",
     "output_type": "stream",
     "text": [
      "Processing record:1 | broome\n",
      "Processing record:2 | husavik\n",
      "Processing record:3 | carnarvon\n",
      "Processing record:4 | mount gambier\n",
      "Processing record:5 | mataura\n",
      "Processing record:6 | georgetown\n",
      "Processing record:7 | mitu\n",
      "Processing record:8 | tuatapere\n",
      "Processing record:9 | vaini\n",
      "Processing record:10 | kapaa\n",
      "Processing record:11 | bredasdorp\n",
      "Processing record:12 | rikitea\n",
      "Processing record:13 | albany\n",
      "Processing record:14 | portland\n",
      "Processing record:15 | bonoua\n",
      "Processing record:16 | busselton\n",
      "Processing record:17 | cape town\n",
      "Processing record:18 | isangel\n",
      "Processing record:19 | seoul\n",
      "Processing record:20 | boa vista\n",
      "Processing record:21 | san cristobal\n",
      "Processing record:22 | belushya guba\n",
      "City not found. Skipping...\n",
      "Processing record:23 | tsihombe\n",
      "City not found. Skipping...\n",
      "Processing record:24 | lodwar\n",
      "Processing record:25 | jamestown\n",
      "Processing record:26 | umzimvubu\n",
      "City not found. Skipping...\n",
      "Processing record:27 | butaritari\n",
      "Processing record:28 | tuktoyaktuk\n",
      "Processing record:29 | hilo\n",
      "Processing record:30 | caravelas\n",
      "Processing record:31 | ler\n",
      "Processing record:32 | lorengau\n",
      "Processing record:33 | torbay\n",
      "Processing record:34 | anadyr\n",
      "Processing record:35 | camacupa\n",
      "Processing record:36 | nguiu\n",
      "City not found. Skipping...\n",
      "Processing record:37 | puerto ayora\n",
      "Processing record:38 | saint george\n",
      "Processing record:39 | vaitupu\n",
      "City not found. Skipping...\n",
      "Processing record:40 | bambous virieux\n",
      "Processing record:41 | skvyra\n",
      "Processing record:42 | pisco\n",
      "Processing record:43 | atuona\n",
      "Processing record:44 | qaanaaq\n",
      "Processing record:45 | lasa\n",
      "Processing record:46 | vanavara\n",
      "Processing record:47 | deputatskiy\n",
      "Processing record:48 | port alfred\n",
      "Processing record:49 | sur\n",
      "Processing record:50 | saskylakh\n",
      "Processing record:51 | yaan\n",
      "Processing record:52 | new norfolk\n",
      "Processing record:53 | iqaluit\n",
      "Processing record:54 | warqla\n",
      "City not found. Skipping...\n",
      "Processing record:55 | russell\n",
      "Processing record:56 | verkhnyaya inta\n",
      "Processing record:57 | hithadhoo\n",
      "Processing record:58 | punta arenas\n",
      "Processing record:59 | nouadhibou\n",
      "Processing record:60 | bluff\n",
      "Processing record:61 | lata\n",
      "Processing record:62 | hasaki\n",
      "Processing record:63 | wajima\n",
      "Processing record:64 | mount pleasant\n",
      "Processing record:65 | ponta do sol\n",
      "Processing record:66 | east london\n",
      "Processing record:67 | tezu\n",
      "Processing record:68 | digby\n",
      "Processing record:69 | talaya\n",
      "Processing record:70 | lavrentiya\n",
      "Processing record:71 | taolanaro\n",
      "City not found. Skipping...\n",
      "Processing record:72 | muravlenko\n",
      "Processing record:73 | pryazha\n",
      "Processing record:74 | kantunilkin\n",
      "Processing record:75 | chokurdakh\n",
      "Processing record:76 | nizhneyansk\n",
      "City not found. Skipping...\n",
      "Processing record:77 | margate\n",
      "Processing record:78 | ushuaia\n",
      "Processing record:79 | cayenne\n",
      "Processing record:80 | skiros\n",
      "City not found. Skipping...\n",
      "Processing record:81 | bethel\n",
      "Processing record:82 | hermanus\n",
      "Processing record:83 | quatre cocos\n",
      "Processing record:84 | nungua\n",
      "Processing record:85 | gisborne\n",
      "Processing record:86 | kruisfontein\n",
      "Processing record:87 | alice springs\n",
      "Processing record:88 | tatawin\n",
      "Processing record:89 | port-de-bouc\n",
      "Processing record:90 | nantucket\n",
      "Processing record:91 | manises\n",
      "Processing record:92 | cidreira\n",
      "Processing record:93 | komatipoort\n",
      "Processing record:94 | karpogory\n",
      "Processing record:95 | termoli\n",
      "Processing record:96 | henties bay\n",
      "Processing record:97 | gaoua\n",
      "Processing record:98 | nelson bay\n",
      "Processing record:99 | bad salzungen\n",
      "Processing record:100 | paamiut\n",
      "Processing record:101 | juneau\n",
      "Processing record:102 | kisangani\n",
      "Processing record:103 | jutai\n",
      "Processing record:104 | belmonte\n",
      "Processing record:105 | avarua\n",
      "Processing record:106 | belyy yar\n",
      "Processing record:107 | codrington\n",
      "Processing record:108 | kununurra\n",
      "Processing record:109 | constitucion\n",
      "Processing record:110 | touros\n",
      "Processing record:111 | aykhal\n",
      "Processing record:112 | sitka\n",
      "Processing record:113 | sierra bullones\n",
      "Processing record:114 | daltenganj\n",
      "Processing record:115 | atambua\n",
      "Processing record:116 | galveston\n",
      "Processing record:117 | ngukurr\n",
      "City not found. Skipping...\n",
      "Processing record:118 | vao\n",
      "Processing record:119 | mapiripan\n",
      "Processing record:120 | coos bay\n",
      "Processing record:121 | shache\n",
      "Processing record:122 | vardo\n",
      "Processing record:123 | kavaratti\n",
      "Processing record:124 | lolua\n",
      "City not found. Skipping...\n",
      "Processing record:125 | leh\n",
      "Processing record:126 | bolu\n",
      "Processing record:127 | san quintin\n",
      "Processing record:128 | hillsboro\n",
      "Processing record:129 | mar del plata\n",
      "Processing record:130 | aklavik\n",
      "Processing record:131 | lewiston\n",
      "Processing record:132 | mecca\n",
      "Processing record:133 | kuvshinovo\n",
      "Processing record:134 | kodiak\n",
      "Processing record:135 | nikolskoye\n",
      "Processing record:136 | dikson\n",
      "Processing record:137 | krasnoselkup\n",
      "Processing record:138 | kahului\n",
      "Processing record:139 | williams lake\n",
      "Processing record:140 | stokmarknes\n",
      "Processing record:141 | mahebourg\n",
      "Processing record:142 | lompoc\n",
      "Processing record:143 | binga\n",
      "Processing record:144 | mabaruma\n",
      "Processing record:145 | uyuni\n",
      "Processing record:146 | hobart\n",
      "Processing record:147 | tiksi\n",
      "Processing record:148 | minsk\n",
      "Processing record:149 | ribeira grande\n",
      "Processing record:150 | lodja\n",
      "Processing record:151 | esperance\n",
      "Processing record:152 | jalna\n",
      "Processing record:153 | cubara\n",
      "Processing record:154 | manaure\n",
      "Processing record:155 | kandrian\n",
      "Processing record:156 | nkhata bay\n",
      "Processing record:157 | khatanga\n",
      "Processing record:158 | marawi\n",
      "Processing record:159 | mayang imphal\n",
      "Processing record:160 | wasilla\n",
      "Processing record:161 | wuan\n",
      "Processing record:162 | trairi\n",
      "Processing record:163 | ahipara\n",
      "Processing record:164 | provideniya\n",
      "Processing record:165 | yulara\n",
      "Processing record:166 | kaunas\n",
      "Processing record:167 | upernavik\n",
      "Processing record:168 | sharya\n",
      "Processing record:169 | keningau\n",
      "Processing record:170 | severo-kurilsk\n",
      "Processing record:171 | slave lake\n",
      "Processing record:172 | yamada\n",
      "Processing record:173 | constantine\n",
      "Processing record:174 | polyarnyye zori\n",
      "Processing record:175 | rungata\n",
      "City not found. Skipping...\n",
      "Processing record:176 | petukhovo\n",
      "Processing record:177 | jasper\n",
      "Processing record:178 | fortuna\n",
      "Processing record:179 | thompson\n",
      "Processing record:180 | souillac\n",
      "Processing record:181 | nemuro\n",
      "Processing record:182 | rawson\n",
      "Processing record:183 | urumqi\n",
      "Processing record:184 | faanui\n",
      "Processing record:185 | haademeeste\n",
      "City not found. Skipping...\n",
      "Processing record:186 | illoqqortoormiut\n",
      "City not found. Skipping...\n",
      "Processing record:187 | gracac\n",
      "Processing record:188 | kulhudhuffushi\n",
      "Processing record:189 | shimoda\n",
      "Processing record:190 | mujiayingzi\n",
      "Processing record:191 | ancud\n",
      "Processing record:192 | guarapari\n",
      "Processing record:193 | darhan\n",
      "Processing record:194 | mys shmidta\n",
      "City not found. Skipping...\n",
      "Processing record:195 | damietta\n",
      "Processing record:196 | sarigyukh\n",
      "City not found. Skipping...\n",
      "Processing record:197 | campbell river\n",
      "Processing record:198 | hovd\n",
      "Processing record:199 | masterton\n",
      "Processing record:200 | port macquarie\n",
      "Processing record:201 | te anau\n",
      "Processing record:202 | castro\n",
      "Processing record:203 | vostok\n",
      "Processing record:204 | beyneu\n",
      "Processing record:205 | umm kaddadah\n",
      "Processing record:206 | murray bridge\n",
      "Processing record:207 | darnah\n",
      "Processing record:208 | waitara\n",
      "Processing record:209 | half moon bay\n",
      "Processing record:210 | port washington\n",
      "Processing record:211 | alofi\n",
      "Processing record:212 | kobojango\n",
      "City not found. Skipping...\n",
      "Processing record:213 | karratha\n",
      "Processing record:214 | coihaique\n",
      "Processing record:215 | necochea\n",
      "Processing record:216 | tasiilaq\n",
      "Processing record:217 | saint-philippe\n",
      "Processing record:218 | cabo san lucas\n",
      "Processing record:219 | northam\n",
      "Processing record:220 | tura\n",
      "Processing record:221 | manono\n",
      "Processing record:222 | ruatoria\n",
      "City not found. Skipping...\n",
      "Processing record:223 | honiara\n",
      "Processing record:224 | utiroa\n",
      "City not found. Skipping...\n",
      "Processing record:225 | kimbe\n",
      "Processing record:226 | azimur\n",
      "City not found. Skipping...\n",
      "Processing record:227 | luocheng\n",
      "Processing record:228 | yellowknife\n",
      "Processing record:229 | huarmey\n",
      "Processing record:230 | clyde river\n",
      "Processing record:231 | khandyga\n",
      "Processing record:232 | deder\n",
      "Processing record:233 | hun\n",
      "Processing record:234 | olafsvik\n"
     ]
    },
    {
     "name": "stdout",
     "output_type": "stream",
     "text": [
      "Processing record:235 | kang\n",
      "Processing record:236 | dunedin\n",
      "Processing record:237 | san patricio\n",
      "Processing record:238 | uvira\n",
      "Processing record:239 | jiddah\n",
      "City not found. Skipping...\n",
      "Processing record:240 | atar\n",
      "Processing record:241 | gornoye loo\n",
      "Processing record:242 | kapit\n",
      "Processing record:243 | malwan\n",
      "City not found. Skipping...\n",
      "Processing record:244 | barrow\n",
      "Processing record:245 | amderma\n",
      "City not found. Skipping...\n",
      "Processing record:246 | arraial do cabo\n",
      "Processing record:247 | dahuk\n",
      "Processing record:248 | bantry\n",
      "Processing record:249 | camacha\n",
      "Processing record:250 | saint anthony\n",
      "Processing record:251 | saleaula\n",
      "City not found. Skipping...\n",
      "Processing record:252 | varkaus\n",
      "Processing record:253 | ilulissat\n",
      "Processing record:254 | carutapera\n",
      "Processing record:255 | teahupoo\n",
      "Processing record:256 | talnakh\n",
      "Processing record:257 | stephenville\n",
      "Processing record:258 | narsaq\n",
      "Processing record:259 | tidore\n",
      "City not found. Skipping...\n",
      "Processing record:260 | mahibadhoo\n",
      "Processing record:261 | shitanjing\n",
      "Processing record:262 | springdale\n",
      "Processing record:263 | roald\n",
      "Processing record:264 | concarneau\n",
      "Processing record:265 | chakia\n",
      "Processing record:266 | bantogon\n",
      "Processing record:267 | hamilton\n",
      "Processing record:268 | aleksandrovskiy zavod\n",
      "Processing record:269 | okhotsk\n",
      "Processing record:270 | kashi\n",
      "Processing record:271 | lembeni\n",
      "Processing record:272 | barentsburg\n",
      "City not found. Skipping...\n",
      "Processing record:273 | casa nova\n",
      "Processing record:274 | bayevo\n",
      "Processing record:275 | palmer\n",
      "Processing record:276 | anloga\n",
      "Processing record:277 | nanortalik\n",
      "Processing record:278 | priladozhskiy\n",
      "Processing record:279 | iskateley\n",
      "Processing record:280 | namatanai\n",
      "Processing record:281 | long beach\n",
      "Processing record:282 | viedma\n",
      "Processing record:283 | sri aman\n",
      "Processing record:284 | inuvik\n",
      "Processing record:285 | acapulco\n",
      "Processing record:286 | calama\n",
      "Processing record:287 | poum\n",
      "Processing record:288 | manzanillo\n",
      "Processing record:289 | tual\n",
      "Processing record:290 | dubrovka\n",
      "Processing record:291 | arlit\n",
      "Processing record:292 | inhambane\n",
      "Processing record:293 | tucurui\n",
      "Processing record:294 | olinda\n",
      "Processing record:295 | teya\n",
      "Processing record:296 | flinders\n",
      "Processing record:297 | minas novas\n",
      "Processing record:298 | cattolica\n",
      "Processing record:299 | canyon\n",
      "Processing record:300 | saint-gedeon\n",
      "Processing record:301 | maple creek\n",
      "Processing record:302 | tabiauea\n",
      "City not found. Skipping...\n",
      "Processing record:303 | stranraer\n",
      "Processing record:304 | beira\n",
      "Processing record:305 | miracema do tocantins\n",
      "Processing record:306 | tumut\n",
      "Processing record:307 | ketchikan\n",
      "Processing record:308 | tanshui\n",
      "City not found. Skipping...\n"
     ]
    }
   ],
   "source": [
    "sample_cities= cities\n",
    "units= \"imperial\"\n",
    "url= 'http://api.openweathermap.org/data/2.5/weather?q='\n",
    "temp= []\n",
    "humidity= []\n",
    "cloudiness= []\n",
    "windspeed= []\n",
    "lat= []\n",
    "lon= []\n",
    "country= []\n",
    "date= []\n",
    "cities_found= []\n",
    "record= 0\n",
    "\n",
    "for cities in sample_cities:\n",
    "    time.sleep(2)\n",
    "    record= record + 1\n",
    "    print(f'Processing record:{record} | {cities}')\n",
    "    try:\n",
    "        query_url= f\"{url}{cities}&appid={weather_api_key}&units={units}\"\n",
    "        response= requests.get(query_url).json()\n",
    "        temp.append(response['main']['temp'])\n",
    "        humidity.append(response['main']['humidity'])\n",
    "        cloudiness.append(response['clouds']['all'])\n",
    "        windspeed.append(response['wind']['speed'])\n",
    "        lat.append(response['coord']['lat'])\n",
    "        lon.append(response['coord']['lon'])\n",
    "        country.append(response['sys']['country'])\n",
    "        date.append(response['dt'])\n",
    "        cities_found.append(response['name'])\n",
    "    except KeyError:\n",
    "        print(\"City not found. Skipping...\")\n",
    "\n",
    "\n",
    "\n",
    "\n",
    "\n"
   ]
  },
  {
   "cell_type": "markdown",
   "metadata": {},
   "source": [
    "### Convert Raw Data to DataFrame\n",
    "* Export the city data into a .csv.\n",
    "* Display the DataFrame"
   ]
  },
  {
   "cell_type": "code",
   "execution_count": null,
   "metadata": {},
   "outputs": [],
   "source": [
    "countries_dict= {\"Cities\": cities_found,\"Temp\": temp, \"Humidity\":humidity, \"Cloudiness\":cloudiness,\"Windspeed\":windspeed,\n",
    "                 \"Lat\":lat, \"Lng\":lon, \"Country\":country, \"Date\": date}\n",
    "\n",
    "countries_df= pd.DataFrame(countries_dict)\n",
    "countries_df"
   ]
  },
  {
   "cell_type": "code",
   "execution_count": null,
   "metadata": {},
   "outputs": [],
   "source": [
    "countries_df.describe()"
   ]
  },
  {
   "cell_type": "markdown",
   "metadata": {},
   "source": [
    "## Inspect the data and remove the cities where the humidity > 100%.\n",
    "----\n",
    "Skip this step if there are no cities that have humidity > 100%. "
   ]
  },
  {
   "cell_type": "code",
   "execution_count": null,
   "metadata": {},
   "outputs": [],
   "source": [
    "max(countries_df['Humidity'])"
   ]
  },
  {
   "cell_type": "markdown",
   "metadata": {},
   "source": [
    "## Plotting the Data\n",
    "* Use proper labeling of the plots using plot titles (including date of analysis) and axes labels.\n",
    "* Save the plotted figures as .pngs."
   ]
  },
  {
   "cell_type": "markdown",
   "metadata": {},
   "source": [
    "## Latitude vs. Temperature Plot"
   ]
  },
  {
   "cell_type": "code",
   "execution_count": null,
   "metadata": {},
   "outputs": [],
   "source": [
    "# pull out date the date was pulled\n",
    "# credit to https://stackoverflow.com/questions/3682748/converting-unix-timestamp-string-to-readable-date\n",
    "date_run= countries_df['Date'][0]\n",
    "date_run= datetime.utcfromtimestamp(date_run).strftime('%Y-%m-%d')\n",
    "\n",
    "countries_df.plot.scatter('Lat','Temp', title= f\"City Latitude vs. Current Temperature ({date_run})\",\n",
    "                          xlabel=\"Latitude\", ylabel=\"Sample Temperature (F)\", grid=True,\n",
    "                          edgecolor= 'black', s=48)\n",
    "\n",
    "print()"
   ]
  },
  {
   "cell_type": "markdown",
   "metadata": {},
   "source": [
    "This plot is investigating how temperature is correlated with latitude. "
   ]
  },
  {
   "cell_type": "markdown",
   "metadata": {},
   "source": [
    "## Latitude vs. Humidity Plot"
   ]
  },
  {
   "cell_type": "code",
   "execution_count": null,
   "metadata": {},
   "outputs": [],
   "source": [
    "countries_df.plot.scatter('Lat','Humidity', s=48, edgecolor= 'black', grid=True,\n",
    "                          title=f\"City Latitude vs. Humidity ({date_run})\", xlabel=\"Latitude\", ylabel=\"Humidity (%)\")\n",
    "\n",
    "print()"
   ]
  },
  {
   "cell_type": "markdown",
   "metadata": {},
   "source": [
    "This plot is investigating how humidity is correlated with latitude. "
   ]
  },
  {
   "cell_type": "markdown",
   "metadata": {},
   "source": [
    "## Latitude vs. Cloudiness Plot"
   ]
  },
  {
   "cell_type": "code",
   "execution_count": null,
   "metadata": {},
   "outputs": [],
   "source": [
    "countries_df.plot.scatter('Lat','Cloudiness', s=48, edgecolor='black', grid=True, xlabel=\"Latitude\", \n",
    "                          ylabel=\"Cloudiness (%)\", title= f\"City Latitude vs Cloudiness ({date_run})\" )\n",
    "print()"
   ]
  },
  {
   "cell_type": "markdown",
   "metadata": {},
   "source": [
    "This plot is investigating how cloudiness is correlated with latitude. "
   ]
  },
  {
   "cell_type": "markdown",
   "metadata": {},
   "source": [
    "## Latitude vs. Wind Speed Plot"
   ]
  },
  {
   "cell_type": "code",
   "execution_count": null,
   "metadata": {},
   "outputs": [],
   "source": [
    "countries_df.plot.scatter('Lat','Windspeed', s=48, edgecolor= 'black', grid=True, ylabel= \"Wind Speed (miles/hour)\", \n",
    "                          xlabel= 'Latitude', title=f\"City Latitude vs Wind Speed ({date_run})\")\n",
    "\n",
    "print()"
   ]
  },
  {
   "cell_type": "markdown",
   "metadata": {},
   "source": [
    "This plot is investigating how windiness is correlated with latitude. "
   ]
  },
  {
   "cell_type": "markdown",
   "metadata": {},
   "source": [
    "## Linear Regression"
   ]
  },
  {
   "cell_type": "code",
   "execution_count": null,
   "metadata": {},
   "outputs": [],
   "source": [
    "countries_df\n",
    "northern_df= countries_df.loc[countries_df['Lat'] > 0, :]\n",
    "southern_df= countries_df.loc[countries_df['Lat'] < 0, :]\n"
   ]
  },
  {
   "cell_type": "markdown",
   "metadata": {},
   "source": [
    "####  Northern Hemisphere - Max Temp vs. Latitude Linear Regression"
   ]
  },
  {
   "cell_type": "code",
   "execution_count": null,
   "metadata": {},
   "outputs": [],
   "source": [
    "northern_df.plot.scatter('Lat','Temp', s=48, ylabel= \"Temperatue (F)\", xlabel= \"Latitude\", \n",
    "                         title= f\"Northern Hemisphere - Max Temp vs. Latitude ({date_run})\")\n",
    "\n",
    "(slope, intercept, rvalue, pvalue, stderr)= linregress(northern_df['Lat'],northern_df['Temp'])\n",
    "\n",
    "plt.plot(northern_df['Lat'], slope * northern_df['Lat'] + intercept, color='red', linewidth=3)\n",
    "\n",
    "plt.annotate(f\"y={round(slope,2)}x + {round(intercept,2)}\", xy=(10,20), color='red', size=15 )\n",
    "\n",
    "print(f\"The r^2 value is: {rvalue**2}\")\n",
    "\n",
    "plt.show()"
   ]
  },
  {
   "cell_type": "markdown",
   "metadata": {},
   "source": [
    "This plot illustrating norther hemisphere temperatures shows a strong negative correlation between increasingly northern latitudes and temperature. In other words, as we move away from the equator temperaturs go down. "
   ]
  },
  {
   "cell_type": "markdown",
   "metadata": {},
   "source": [
    "####  Southern Hemisphere - Max Temp vs. Latitude Linear Regression"
   ]
  },
  {
   "cell_type": "code",
   "execution_count": null,
   "metadata": {},
   "outputs": [],
   "source": [
    "southern_df.plot.scatter('Lat','Temp', s=48, ylabel= \"Temperatue (F)\", xlabel= \"Latitude\", \n",
    "                         title= f\"Southern Hemisphere - Max Temp vs. Latitude ({date_run})\")\n",
    "\n",
    "(slope, intercept, rvalue, pvalue, stderr)= linregress(southern_df['Lat'],southern_df['Temp'])\n",
    "\n",
    "plt.plot(southern_df['Lat'],slope*southern_df['Lat'] + intercept, color='red', linewidth=3)\n",
    "\n",
    "plt.annotate(f\"y= {round(slope,2)}x + {round(intercept,2)}\", xy=(-50,80), color='red', size=15)\n",
    "\n",
    "print(f\"The r^2 value is: {rvalue**2}\")\n",
    "\n",
    "plt.show()\n"
   ]
  },
  {
   "cell_type": "markdown",
   "metadata": {},
   "source": [
    "This plot, which illustrates temperatures as a function of latitude in the southern hemisphere, demonstrates a somewhat strong positive correlation between increasingly northern latitudes and temperature. Said another way, temperatures are trending up as we move towards the equator. However, the correlation is not as strong as it was for the northern hemisphere."
   ]
  },
  {
   "cell_type": "markdown",
   "metadata": {},
   "source": [
    "####  Northern Hemisphere - Humidity (%) vs. Latitude Linear Regression"
   ]
  },
  {
   "cell_type": "code",
   "execution_count": null,
   "metadata": {},
   "outputs": [],
   "source": [
    "northern_df.plot.scatter('Lat','Humidity', s=48, xlabel='Latitude', ylabel= 'Humidity (%)',\n",
    "                         title=f'Northern Hemisphere - Humidity (%) vs. Latitude ({date_run})')\n",
    "\n",
    "(slope, intercept, rvalue, pvalue, stderr)= linregress(northern_df['Lat'],northern_df['Humidity'])\n",
    "\n",
    "plt.plot(northern_df['Lat'], slope*northern_df['Lat'] + intercept, color='red', linewidth='3')\n",
    "\n",
    "plt.annotate(f\"y= {round(slope,2)}x + {round(intercept,2)}\", xy=(40,15), color= \"red\", size=15 )\n",
    "\n",
    "print(f\"The r^2 value is: {rvalue**2}\")\n",
    "\n",
    "print()"
   ]
  },
  {
   "cell_type": "markdown",
   "metadata": {},
   "source": [
    "This plot shows very little correlation between latitude and humidity in the northern hemisphere."
   ]
  },
  {
   "cell_type": "markdown",
   "metadata": {},
   "source": [
    "####  Southern Hemisphere - Humidity (%) vs. Latitude Linear Regression"
   ]
  },
  {
   "cell_type": "code",
   "execution_count": null,
   "metadata": {},
   "outputs": [],
   "source": [
    "southern_df.plot.scatter('Lat','Humidity', s=48, xlabel='Latitude', ylabel= 'Humidity (%)',\n",
    "                         title=f'Southern Hemisphere - Humidity (%) vs. Latitude ({date_run})')\n",
    "\n",
    "(slope, intercept, rvalue, pvalue, stderr) = linregress(southern_df['Lat'],southern_df['Humidity'])\n",
    "\n",
    "plt.plot(southern_df['Lat'], slope*southern_df['Lat'] + intercept, color='red', linewidth=3)\n",
    "\n",
    "plt.annotate(f'y= {round(slope,2)}x + {round(intercept)}', xy=(-50,30), color='red', size=15)\n",
    "\n",
    "plt.show()"
   ]
  },
  {
   "cell_type": "markdown",
   "metadata": {},
   "source": [
    "This plot shows a very little correlation between latitude and humidity in the southern hemisphere."
   ]
  },
  {
   "cell_type": "markdown",
   "metadata": {},
   "source": [
    "####  Northern Hemisphere - Cloudiness (%) vs. Latitude Linear Regression"
   ]
  },
  {
   "cell_type": "code",
   "execution_count": null,
   "metadata": {},
   "outputs": [],
   "source": [
    "northern_df.plot.scatter('Lat', 'Cloudiness', s=48, xlabel= \"Latitude\", ylabel= 'Cloudiness (%)',\n",
    "                         title=f'Northern Hemisphere - Cloudiness (%) vs. Latitude ({date_run})' )\n",
    "\n",
    "(slope, intercept, rvalue, pvalue, stderr)= linregress(northern_df['Lat'],northern_df['Cloudiness'])\n",
    "\n",
    "plt.plot(northern_df['Lat'], slope * northern_df['Lat'] + intercept, color='red', linewidth=3)\n",
    "\n",
    "plt.annotate(f'y= {round(slope,2)}x + {round(intercept,2)}', xy=(15,80), color='red', size=15 )\n",
    "\n",
    "print(f'The r^2 value is: {rvalue**2}')\n",
    "\n",
    "print()"
   ]
  },
  {
   "cell_type": "markdown",
   "metadata": {},
   "source": [
    "This plot shows very little correlation between cloudiness and latitudue."
   ]
  },
  {
   "cell_type": "markdown",
   "metadata": {},
   "source": [
    "####  Southern Hemisphere - Cloudiness (%) vs. Latitude Linear Regression"
   ]
  },
  {
   "cell_type": "code",
   "execution_count": null,
   "metadata": {},
   "outputs": [],
   "source": [
    "southern_df.plot.scatter('Lat', 'Cloudiness', s=48, xlabel= \"Latitude\", ylabel= 'Cloudiness (%)',\n",
    "                         title=f'Southern Hemisphere - Cloudiness (%) vs. Latitude ({date_run})' )\n",
    "\n",
    "(slope, intercept, rvalue, pvalue, stderr)= linregress(southern_df['Lat'],southern_df['Cloudiness'])\n",
    "\n",
    "plt.plot(southern_df['Lat'], slope*southern_df['Lat'] + intercept, color='red', linewidth=3)\n",
    "\n",
    "plt.annotate(f'y= {round(slope,2)}x + {round(intercept,2)}', color='red', size=15, xy= (-55,60))\n",
    "\n",
    "print(f'The r^2 value is: {rvalue**2}' )\n",
    "\n",
    "print()"
   ]
  },
  {
   "cell_type": "markdown",
   "metadata": {},
   "source": [
    "This plot also shows very little correlation between cloudiness and latitudue."
   ]
  },
  {
   "cell_type": "markdown",
   "metadata": {},
   "source": [
    "####  Northern Hemisphere - Wind Speed (mph) vs. Latitude Linear Regression"
   ]
  },
  {
   "cell_type": "code",
   "execution_count": null,
   "metadata": {},
   "outputs": [],
   "source": [
    "northern_df.plot.scatter('Lat','Windspeed', s=48, xlabel= \"Latitude\", ylabel= 'Wind Speed (mph)', \n",
    "                         title=f\"Northern Hemisphere - Wind Speed vs. Latitude ({date_run})\" )\n",
    "\n",
    "(slope, intercept, rvalue, pvalue, stderr)= linregress(northern_df['Lat'],northern_df['Windspeed'])\n",
    "\n",
    "plt.plot(northern_df['Lat'],slope*northern_df['Lat'] + intercept,color='red', linewidth=3)\n",
    "\n",
    "plt.annotate(f'y= {round(slope,2)}x + {round(intercept,2)}', xy=(40,30), color='red', size=15)\n",
    "\n",
    "print(f'The r^2 value is: {rvalue**2}')\n",
    "             \n",
    "print()"
   ]
  },
  {
   "cell_type": "markdown",
   "metadata": {},
   "source": [
    "This plot shows very little correlation between windiness and latitudue."
   ]
  },
  {
   "cell_type": "markdown",
   "metadata": {},
   "source": [
    "####  Southern Hemisphere - Wind Speed (mph) vs. Latitude Linear Regression"
   ]
  },
  {
   "cell_type": "code",
   "execution_count": null,
   "metadata": {},
   "outputs": [],
   "source": [
    "southern_df.plot.scatter('Lat','Windspeed', s=48, xlabel=\"Latitude\", ylabel= \"Wind Speed (mph)\",\n",
    "                        title= f\"Southern Hemisphere Wind Speed vs. Latitude ({date_run})\")\n",
    "\n",
    "(slope, intercept, rvalue, pvalue, stderr)= linregress(southern_df['Lat'],southern_df['Windspeed'])\n",
    "\n",
    "plt.plot(southern_df['Lat'],slope*southern_df['Lat'] + intercept, color='red', linewidth=3)\n",
    "\n",
    "plt.annotate(f'y={round(slope,2)}x + {round(intercept,2)}', xy=(-25,25), color='red', size=15)\n",
    "\n",
    "print(f'The r^2 value is: {rvalue**2}')\n",
    "\n",
    "plt.show()"
   ]
  },
  {
   "cell_type": "markdown",
   "metadata": {},
   "source": [
    "This plot also shows very little correlation between windiness and latitudue."
   ]
  },
  {
   "cell_type": "code",
   "execution_count": null,
   "metadata": {},
   "outputs": [],
   "source": [
    "#output data to csv\n",
    "\n",
    "countries_df.to_csv(output_data_file)\n"
   ]
  },
  {
   "cell_type": "code",
   "execution_count": null,
   "metadata": {},
   "outputs": [],
   "source": []
  }
 ],
 "metadata": {
  "anaconda-cloud": {},
  "kernel_info": {
   "name": "python3"
  },
  "kernelspec": {
   "display_name": "Python 3",
   "language": "python",
   "name": "python3"
  },
  "language_info": {
   "codemirror_mode": {
    "name": "ipython",
    "version": 3
   },
   "file_extension": ".py",
   "mimetype": "text/x-python",
   "name": "python",
   "nbconvert_exporter": "python",
   "pygments_lexer": "ipython3",
   "version": "3.8.8"
  },
  "latex_envs": {
   "LaTeX_envs_menu_present": true,
   "autoclose": false,
   "autocomplete": true,
   "bibliofile": "biblio.bib",
   "cite_by": "apalike",
   "current_citInitial": 1,
   "eqLabelWithNumbers": true,
   "eqNumInitial": 1,
   "hotkeys": {
    "equation": "Ctrl-E",
    "itemize": "Ctrl-I"
   },
   "labels_anchors": false,
   "latex_user_defs": false,
   "report_style_numbering": false,
   "user_envs_cfg": false
  },
  "nteract": {
   "version": "0.12.3"
  }
 },
 "nbformat": 4,
 "nbformat_minor": 2
}
